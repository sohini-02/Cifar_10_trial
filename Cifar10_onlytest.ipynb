{
 "cells": [
  {
   "cell_type": "code",
   "execution_count": 1,
   "id": "12d4fc33",
   "metadata": {},
   "outputs": [],
   "source": [
    "from keras.models import load_model"
   ]
  },
  {
   "cell_type": "code",
   "execution_count": 2,
   "id": "e0dd961f",
   "metadata": {},
   "outputs": [],
   "source": [
    "#model = load_model('trained_models\\cifar10_2layer_auc.h5')"
   ]
  },
  {
   "cell_type": "code",
   "execution_count": 11,
   "id": "c6fe9d8e",
   "metadata": {},
   "outputs": [],
   "source": [
    "model = load_model('trained_models\\cifar10_3layer_auc.h5')"
   ]
  },
  {
   "cell_type": "code",
   "execution_count": 4,
   "id": "5c8b6cec",
   "metadata": {},
   "outputs": [],
   "source": [
    "#model = load_model('trained_models\\cifar10_2layer_acc.h5')"
   ]
  },
  {
   "cell_type": "code",
   "execution_count": 5,
   "id": "29ea71ff",
   "metadata": {},
   "outputs": [],
   "source": [
    "#model = load_model('trained_models\\cifar10_3layer_acc.h5')"
   ]
  },
  {
   "cell_type": "code",
   "execution_count": 12,
   "id": "4a229bc4",
   "metadata": {},
   "outputs": [],
   "source": [
    "import matplotlib.pyplot as plt"
   ]
  },
  {
   "cell_type": "code",
   "execution_count": 13,
   "id": "6e330e86",
   "metadata": {},
   "outputs": [],
   "source": [
    "my_image = plt.imread(\"test_images\\cat3.jpeg\")"
   ]
  },
  {
   "cell_type": "code",
   "execution_count": 14,
   "id": "9824944c",
   "metadata": {},
   "outputs": [],
   "source": [
    "from skimage.transform import resize\n",
    "my_image_resized = resize(my_image, (32,32,3))"
   ]
  },
  {
   "cell_type": "code",
   "execution_count": 15,
   "id": "1f489876",
   "metadata": {},
   "outputs": [
    {
     "data": {
      "image/png": "[encoded data removed]",
      "text/plain": [
       "<Figure size 432x288 with 1 Axes>"
      ]
     },
     "metadata": {
      "needs_background": "light"
     },
     "output_type": "display_data"
    }
   ],
   "source": [
    "img = plt.imshow(my_image_resized)"
   ]
  },
  {
   "cell_type": "code",
   "execution_count": 16,
   "id": "04547e1a",
   "metadata": {},
   "outputs": [
    {
     "name": "stdout",
     "output_type": "stream",
     "text": [
      "1/1 [==============================] - 0s 100ms/step\n"
     ]
    }
   ],
   "source": [
    "import numpy as np\n",
    "probabilities = model.predict(np.array( [my_image_resized,] ))"
   ]
  },
  {
   "cell_type": "code",
   "execution_count": 17,
   "id": "5225562e",
   "metadata": {},
   "outputs": [
    {
     "data": {
      "text/plain": [
       "array([[1.0218127e-02, 3.6601975e-04, 4.8326660e-02, 3.8233057e-01,\n",
       "        1.0143252e-01, 1.4369489e-01, 3.1616163e-02, 4.2147655e-02,\n",
       "        2.3744863e-01, 2.4187563e-03]], dtype=float32)"
      ]
     },
     "execution_count": 17,
     "metadata": {},
     "output_type": "execute_result"
    }
   ],
   "source": [
    "probabilities"
   ]
  },
  {
   "cell_type": "code",
   "execution_count": 18,
   "id": "1c5e6d38",
   "metadata": {},
   "outputs": [
    {
     "name": "stdout",
     "output_type": "stream",
     "text": [
      "Most likely class: cat -- Probability: 0.38233057\n",
      "Second most likely class: ship -- Probability: 0.23744863\n",
      "Third most likely class: dog -- Probability: 0.14369489\n",
      "Fourth most likely class: deer -- Probability: 0.10143252\n",
      "Fifth most likely class: bird -- Probability: 0.04832666\n",
      "Sixth most likely class: horse -- Probability: 0.042147655\n",
      "Seventh most likely class: frog -- Probability: 0.031616163\n",
      "Eighth most likely class: airplane -- Probability: 0.010218127\n",
      "Ninth most likely class: truck -- Probability: 0.0024187563\n",
      "Tenth most likely class: automobile -- Probability: 0.00036601975\n"
     ]
    }
   ],
   "source": [
    "number_to_class = ['airplane', 'automobile', 'bird', 'cat', 'deer', 'dog', 'frog', 'horse', 'ship', 'truck']\n",
    "index = np.argsort(probabilities[0,:])\n",
    "print(\"Most likely class:\", number_to_class[index[9]], \"-- Probability:\", probabilities[0,index[9]])\n",
    "print(\"Second most likely class:\", number_to_class[index[8]], \"-- Probability:\", probabilities[0,index[8]])\n",
    "print(\"Third most likely class:\", number_to_class[index[7]], \"-- Probability:\", probabilities[0,index[7]])\n",
    "print(\"Fourth most likely class:\", number_to_class[index[6]], \"-- Probability:\", probabilities[0,index[6]])\n",
    "print(\"Fifth most likely class:\", number_to_class[index[5]], \"-- Probability:\", probabilities[0,index[5]])\n",
    "print(\"Sixth most likely class:\", number_to_class[index[4]], \"-- Probability:\", probabilities[0,index[4]])\n",
    "print(\"Seventh most likely class:\", number_to_class[index[3]], \"-- Probability:\", probabilities[0,index[3]])\n",
    "print(\"Eighth most likely class:\", number_to_class[index[2]], \"-- Probability:\", probabilities[0,index[2]])\n",
    "print(\"Ninth most likely class:\", number_to_class[index[1]], \"-- Probability:\", probabilities[0,index[1]])\n",
    "print(\"Tenth most likely class:\", number_to_class[index[0]], \"-- Probability:\", probabilities[0,index[0]])"
   ]
  }
 ],
 "metadata": {
  "kernelspec": {
   "display_name": "Python 3 (ipykernel)",
   "language": "python",
   "name": "python3"
  },
  "language_info": {
   "codemirror_mode": {
    "name": "ipython",
    "version": 3
   },
   "file_extension": ".py",
   "mimetype": "text/x-python",
   "name": "python",
   "nbconvert_exporter": "python",
   "pygments_lexer": "ipython3",
   "version": "3.9.12"
  }
 },
 "nbformat": 4,
 "nbformat_minor": 5
}
